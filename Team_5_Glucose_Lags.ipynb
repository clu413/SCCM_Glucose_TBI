{
  "nbformat": 4,
  "nbformat_minor": 0,
  "metadata": {
    "colab": {
      "name": "Team 5 Glucose Lags",
      "provenance": [],
      "collapsed_sections": []
    },
    "kernelspec": {
      "display_name": "Python 3",
      "language": "python",
      "name": "python3"
    },
    "language_info": {
      "codemirror_mode": {
        "name": "ipython",
        "version": 3
      },
      "file_extension": ".py",
      "mimetype": "text/x-python",
      "name": "python",
      "nbconvert_exporter": "python",
      "pygments_lexer": "ipython3",
      "version": "3.7.4"
    }
  },
  "cells": [
    {
      "cell_type": "markdown",
      "metadata": {
        "colab_type": "text",
        "id": "NCI19_Ix7xuI"
      },
      "source": [
        "# eICU Collaborative Research Database\n",
        "\n",
        "# Notebook 1: Exploring the patient table\n",
        "\n",
        "The aim of this notebook is to get set up with access to a demo version of the [eICU Collaborative Research Database](http://eicu-crd.mit.edu/). The demo is a subset of the full database, limited to ~1000 patients.\n",
        "\n",
        "We begin by exploring the `patient` table, which contains patient demographics and admission and discharge details for hospital and ICU stays. For more detail, see: http://eicu-crd.mit.edu/eicutables/patient/"
      ]
    },
    {
      "cell_type": "markdown",
      "metadata": {
        "id": "GoYR2SkVB1ME",
        "colab_type": "text"
      },
      "source": [
        "## Prerequisites\n",
        "\n",
        "- If you do not have a Gmail account, please create one at http://www.gmail.com. \n",
        "- If you have not yet signed the data use agreement (DUA) sent by the organizers, please do so now to get access to the dataset."
      ]
    },
    {
      "cell_type": "markdown",
      "metadata": {
        "colab_type": "text",
        "id": "l_CmlcBu8Wei"
      },
      "source": [
        "## Load libraries and connect to the data\n",
        "\n",
        "Run the following cells to import some libraries and then connect to the database."
      ]
    },
    {
      "cell_type": "code",
      "metadata": {
        "colab_type": "code",
        "id": "3WQsJiAj8B5L",
        "colab": {}
      },
      "source": [
        "# Import libraries\n",
        "import numpy as np\n",
        "import os\n",
        "import pandas as pd\n",
        "import matplotlib.pyplot as plt\n",
        "import matplotlib.patches as patches\n",
        "import matplotlib.path as path\n",
        "\n",
        "# Make pandas dataframes prettier\n",
        "from IPython.display import display, HTML\n",
        "\n",
        "# Access data using Google BigQuery.\n",
        "from google.colab import auth\n",
        "from google.cloud import bigquery"
      ],
      "execution_count": 0,
      "outputs": []
    },
    {
      "cell_type": "markdown",
      "metadata": {
        "colab_type": "text",
        "id": "Ld59KZ0W9E4v"
      },
      "source": [
        "Before running any queries, you need to first authenticate yourself by running the following cell. If you are running it for the first time, it will ask you to follow a link to log in using your Gmail account, and accept the data access requests to your profile. Once this is done, it will generate a string of verification code, which you should paste back to the cell below and press enter."
      ]
    },
    {
      "cell_type": "code",
      "metadata": {
        "colab_type": "code",
        "id": "ABh4hMt288yg",
        "colab": {}
      },
      "source": [
        "auth.authenticate_user()"
      ],
      "execution_count": 0,
      "outputs": []
    },
    {
      "cell_type": "markdown",
      "metadata": {
        "colab_type": "text",
        "id": "BPoHP2a8_eni"
      },
      "source": [
        "We'll also set the project details."
      ]
    },
    {
      "cell_type": "code",
      "metadata": {
        "colab_type": "code",
        "id": "P0fdtVMa_di9",
        "colab": {}
      },
      "source": [
        "project_id='sccm-datathon'\n",
        "os.environ[\"GOOGLE_CLOUD_PROJECT\"]=project_id"
      ],
      "execution_count": 0,
      "outputs": []
    },
    {
      "cell_type": "markdown",
      "metadata": {
        "colab_type": "text",
        "id": "5bHZALFP9VN1"
      },
      "source": [
        "# \"Querying\" our database with SQL\n",
        "\n",
        "Now we can start exploring the data. We'll begin by running a simple query to load all columns of the `patient` table to a Pandas DataFrame. The query is written in SQL, a common language for extracting data from databases. The structure of an SQL query is:\n",
        "\n",
        "```sql\n",
        "SELECT <columns>\n",
        "FROM <table>\n",
        "WHERE <criteria, optional>\n",
        "```\n",
        "\n",
        "`*` is a wildcard that indicates all columns"
      ]
    },
    {
      "cell_type": "markdown",
      "metadata": {
        "id": "cujLJe2sB1Ml",
        "colab_type": "text"
      },
      "source": [
        "# BigQuery\n",
        "\n",
        "Our dataset is stored on BigQuery, Google's database engine. We can run our query on the database using some special (\"magic\") [BigQuery syntax](https://googleapis.dev/python/bigquery/latest/magics.html)."
      ]
    },
    {
      "cell_type": "code",
      "metadata": {
        "colab_type": "code",
        "id": "RE-UZAPG_rHq",
        "colab": {}
      },
      "source": [
        "%%bigquery df\n",
        "\n",
        "SELECT * FROM `sccm-datathon.team_5.glucose_cohort`"
      ],
      "execution_count": 0,
      "outputs": []
    },
    {
      "cell_type": "code",
      "metadata": {
        "id": "4gfNhVfKk2mb",
        "colab_type": "code",
        "colab": {
          "base_uri": "https://localhost:8080/",
          "height": 34
        },
        "outputId": "843d1e99-9398-48a3-a732-135f503a68f9"
      },
      "source": [
        "df.shape"
      ],
      "execution_count": 125,
      "outputs": [
        {
          "output_type": "execute_result",
          "data": {
            "text/plain": [
              "(244532, 11)"
            ]
          },
          "metadata": {
            "tags": []
          },
          "execution_count": 125
        }
      ]
    },
    {
      "cell_type": "code",
      "metadata": {
        "id": "MFtiO8vAlB27",
        "colab_type": "code",
        "colab": {
          "base_uri": "https://localhost:8080/",
          "height": 204
        },
        "outputId": "cfc959de-ede3-40ee-bb49-594f07c3a594"
      },
      "source": [
        "df.head()"
      ],
      "execution_count": 126,
      "outputs": [
        {
          "output_type": "execute_result",
          "data": {
            "text/html": [
              "<div>\n",
              "<style scoped>\n",
              "    .dataframe tbody tr th:only-of-type {\n",
              "        vertical-align: middle;\n",
              "    }\n",
              "\n",
              "    .dataframe tbody tr th {\n",
              "        vertical-align: top;\n",
              "    }\n",
              "\n",
              "    .dataframe thead th {\n",
              "        text-align: right;\n",
              "    }\n",
              "</style>\n",
              "<table border=\"1\" class=\"dataframe\">\n",
              "  <thead>\n",
              "    <tr style=\"text-align: right;\">\n",
              "      <th></th>\n",
              "      <th>patientunitstayid</th>\n",
              "      <th>LAB_NAME</th>\n",
              "      <th>labresult</th>\n",
              "      <th>labresultoffset</th>\n",
              "      <th>DAY</th>\n",
              "      <th>Glucose_max</th>\n",
              "      <th>Glucose_min</th>\n",
              "      <th>Glucose_mean</th>\n",
              "      <th>Glucose_std</th>\n",
              "      <th>Glucose_count</th>\n",
              "      <th>rn</th>\n",
              "    </tr>\n",
              "  </thead>\n",
              "  <tbody>\n",
              "    <tr>\n",
              "      <th>0</th>\n",
              "      <td>146690</td>\n",
              "      <td>GLUCOSE</td>\n",
              "      <td>273.0</td>\n",
              "      <td>-98</td>\n",
              "      <td>1</td>\n",
              "      <td>292.0</td>\n",
              "      <td>94.0</td>\n",
              "      <td>196.576923</td>\n",
              "      <td>44.592531</td>\n",
              "      <td>26</td>\n",
              "      <td>1</td>\n",
              "    </tr>\n",
              "    <tr>\n",
              "      <th>1</th>\n",
              "      <td>146690</td>\n",
              "      <td>GLUCOSE</td>\n",
              "      <td>292.0</td>\n",
              "      <td>-43</td>\n",
              "      <td>1</td>\n",
              "      <td>292.0</td>\n",
              "      <td>94.0</td>\n",
              "      <td>196.576923</td>\n",
              "      <td>44.592531</td>\n",
              "      <td>26</td>\n",
              "      <td>2</td>\n",
              "    </tr>\n",
              "    <tr>\n",
              "      <th>2</th>\n",
              "      <td>146690</td>\n",
              "      <td>GLUCOSE</td>\n",
              "      <td>252.0</td>\n",
              "      <td>6</td>\n",
              "      <td>1</td>\n",
              "      <td>292.0</td>\n",
              "      <td>94.0</td>\n",
              "      <td>196.576923</td>\n",
              "      <td>44.592531</td>\n",
              "      <td>26</td>\n",
              "      <td>3</td>\n",
              "    </tr>\n",
              "    <tr>\n",
              "      <th>3</th>\n",
              "      <td>146690</td>\n",
              "      <td>GLUCOSE</td>\n",
              "      <td>213.0</td>\n",
              "      <td>70</td>\n",
              "      <td>1</td>\n",
              "      <td>292.0</td>\n",
              "      <td>94.0</td>\n",
              "      <td>196.576923</td>\n",
              "      <td>44.592531</td>\n",
              "      <td>26</td>\n",
              "      <td>4</td>\n",
              "    </tr>\n",
              "    <tr>\n",
              "      <th>4</th>\n",
              "      <td>146690</td>\n",
              "      <td>GLUCOSE</td>\n",
              "      <td>200.0</td>\n",
              "      <td>74</td>\n",
              "      <td>1</td>\n",
              "      <td>292.0</td>\n",
              "      <td>94.0</td>\n",
              "      <td>196.576923</td>\n",
              "      <td>44.592531</td>\n",
              "      <td>26</td>\n",
              "      <td>5</td>\n",
              "    </tr>\n",
              "  </tbody>\n",
              "</table>\n",
              "</div>"
            ],
            "text/plain": [
              "   patientunitstayid LAB_NAME  labresult  ...  Glucose_std  Glucose_count  rn\n",
              "0             146690  GLUCOSE      273.0  ...    44.592531             26   1\n",
              "1             146690  GLUCOSE      292.0  ...    44.592531             26   2\n",
              "2             146690  GLUCOSE      252.0  ...    44.592531             26   3\n",
              "3             146690  GLUCOSE      213.0  ...    44.592531             26   4\n",
              "4             146690  GLUCOSE      200.0  ...    44.592531             26   5\n",
              "\n",
              "[5 rows x 11 columns]"
            ]
          },
          "metadata": {
            "tags": []
          },
          "execution_count": 126
        }
      ]
    },
    {
      "cell_type": "code",
      "metadata": {
        "id": "eNLeZLFvCan9",
        "colab_type": "code",
        "colab": {}
      },
      "source": [
        "df.drop(labels=['Glucose_max', 'Glucose_min', 'Glucose_std', 'Glucose_count', 'Glucose_mean', 'rn'], axis=1, inplace=True)"
      ],
      "execution_count": 0,
      "outputs": []
    },
    {
      "cell_type": "code",
      "metadata": {
        "id": "rJ1dZjEHC0UU",
        "colab_type": "code",
        "colab": {
          "base_uri": "https://localhost:8080/",
          "height": 204
        },
        "outputId": "a0ff31e5-ae57-4eac-c28b-23944d6bfbf5"
      },
      "source": [
        "df.head()"
      ],
      "execution_count": 128,
      "outputs": [
        {
          "output_type": "execute_result",
          "data": {
            "text/html": [
              "<div>\n",
              "<style scoped>\n",
              "    .dataframe tbody tr th:only-of-type {\n",
              "        vertical-align: middle;\n",
              "    }\n",
              "\n",
              "    .dataframe tbody tr th {\n",
              "        vertical-align: top;\n",
              "    }\n",
              "\n",
              "    .dataframe thead th {\n",
              "        text-align: right;\n",
              "    }\n",
              "</style>\n",
              "<table border=\"1\" class=\"dataframe\">\n",
              "  <thead>\n",
              "    <tr style=\"text-align: right;\">\n",
              "      <th></th>\n",
              "      <th>patientunitstayid</th>\n",
              "      <th>LAB_NAME</th>\n",
              "      <th>labresult</th>\n",
              "      <th>labresultoffset</th>\n",
              "      <th>DAY</th>\n",
              "    </tr>\n",
              "  </thead>\n",
              "  <tbody>\n",
              "    <tr>\n",
              "      <th>0</th>\n",
              "      <td>146690</td>\n",
              "      <td>GLUCOSE</td>\n",
              "      <td>273.0</td>\n",
              "      <td>-98</td>\n",
              "      <td>1</td>\n",
              "    </tr>\n",
              "    <tr>\n",
              "      <th>1</th>\n",
              "      <td>146690</td>\n",
              "      <td>GLUCOSE</td>\n",
              "      <td>292.0</td>\n",
              "      <td>-43</td>\n",
              "      <td>1</td>\n",
              "    </tr>\n",
              "    <tr>\n",
              "      <th>2</th>\n",
              "      <td>146690</td>\n",
              "      <td>GLUCOSE</td>\n",
              "      <td>252.0</td>\n",
              "      <td>6</td>\n",
              "      <td>1</td>\n",
              "    </tr>\n",
              "    <tr>\n",
              "      <th>3</th>\n",
              "      <td>146690</td>\n",
              "      <td>GLUCOSE</td>\n",
              "      <td>213.0</td>\n",
              "      <td>70</td>\n",
              "      <td>1</td>\n",
              "    </tr>\n",
              "    <tr>\n",
              "      <th>4</th>\n",
              "      <td>146690</td>\n",
              "      <td>GLUCOSE</td>\n",
              "      <td>200.0</td>\n",
              "      <td>74</td>\n",
              "      <td>1</td>\n",
              "    </tr>\n",
              "  </tbody>\n",
              "</table>\n",
              "</div>"
            ],
            "text/plain": [
              "   patientunitstayid LAB_NAME  labresult  labresultoffset  DAY\n",
              "0             146690  GLUCOSE      273.0              -98    1\n",
              "1             146690  GLUCOSE      292.0              -43    1\n",
              "2             146690  GLUCOSE      252.0                6    1\n",
              "3             146690  GLUCOSE      213.0               70    1\n",
              "4             146690  GLUCOSE      200.0               74    1"
            ]
          },
          "metadata": {
            "tags": []
          },
          "execution_count": 128
        }
      ]
    },
    {
      "cell_type": "code",
      "metadata": {
        "id": "Hvmn97Hz-1Bc",
        "colab_type": "code",
        "colab": {
          "base_uri": "https://localhost:8080/",
          "height": 204
        },
        "outputId": "ab48dc35-452a-46cf-afe0-dee913fac3ec"
      },
      "source": [
        "df.sort_values(['patientunitstayid', 'DAY'], inplace=True)\n",
        "df.head()"
      ],
      "execution_count": 129,
      "outputs": [
        {
          "output_type": "execute_result",
          "data": {
            "text/html": [
              "<div>\n",
              "<style scoped>\n",
              "    .dataframe tbody tr th:only-of-type {\n",
              "        vertical-align: middle;\n",
              "    }\n",
              "\n",
              "    .dataframe tbody tr th {\n",
              "        vertical-align: top;\n",
              "    }\n",
              "\n",
              "    .dataframe thead th {\n",
              "        text-align: right;\n",
              "    }\n",
              "</style>\n",
              "<table border=\"1\" class=\"dataframe\">\n",
              "  <thead>\n",
              "    <tr style=\"text-align: right;\">\n",
              "      <th></th>\n",
              "      <th>patientunitstayid</th>\n",
              "      <th>LAB_NAME</th>\n",
              "      <th>labresult</th>\n",
              "      <th>labresultoffset</th>\n",
              "      <th>DAY</th>\n",
              "    </tr>\n",
              "  </thead>\n",
              "  <tbody>\n",
              "    <tr>\n",
              "      <th>56110</th>\n",
              "      <td>141265</td>\n",
              "      <td>GLUCOSE</td>\n",
              "      <td>125.0</td>\n",
              "      <td>528</td>\n",
              "      <td>1</td>\n",
              "    </tr>\n",
              "    <tr>\n",
              "      <th>56111</th>\n",
              "      <td>141265</td>\n",
              "      <td>GLUCOSE</td>\n",
              "      <td>142.0</td>\n",
              "      <td>803</td>\n",
              "      <td>1</td>\n",
              "    </tr>\n",
              "    <tr>\n",
              "      <th>56112</th>\n",
              "      <td>141265</td>\n",
              "      <td>GLUCOSE</td>\n",
              "      <td>156.0</td>\n",
              "      <td>1193</td>\n",
              "      <td>1</td>\n",
              "    </tr>\n",
              "    <tr>\n",
              "      <th>56113</th>\n",
              "      <td>141265</td>\n",
              "      <td>GLUCOSE</td>\n",
              "      <td>155.0</td>\n",
              "      <td>1342</td>\n",
              "      <td>1</td>\n",
              "    </tr>\n",
              "    <tr>\n",
              "      <th>56114</th>\n",
              "      <td>141265</td>\n",
              "      <td>GLUCOSE</td>\n",
              "      <td>122.0</td>\n",
              "      <td>1660</td>\n",
              "      <td>2</td>\n",
              "    </tr>\n",
              "  </tbody>\n",
              "</table>\n",
              "</div>"
            ],
            "text/plain": [
              "       patientunitstayid LAB_NAME  labresult  labresultoffset  DAY\n",
              "56110             141265  GLUCOSE      125.0              528    1\n",
              "56111             141265  GLUCOSE      142.0              803    1\n",
              "56112             141265  GLUCOSE      156.0             1193    1\n",
              "56113             141265  GLUCOSE      155.0             1342    1\n",
              "56114             141265  GLUCOSE      122.0             1660    2"
            ]
          },
          "metadata": {
            "tags": []
          },
          "execution_count": 129
        }
      ]
    },
    {
      "cell_type": "markdown",
      "metadata": {
        "id": "X7YoeWl5LKKA",
        "colab_type": "text"
      },
      "source": [
        "#Calculate difference between successive glucose draws"
      ]
    },
    {
      "cell_type": "code",
      "metadata": {
        "id": "7kbc6EG8_yxj",
        "colab_type": "code",
        "colab": {
          "base_uri": "https://localhost:8080/",
          "height": 204
        },
        "outputId": "4f8015f9-28ab-48df-e813-aaf8735bd762"
      },
      "source": [
        "df['delta_glucose'] = df['labresult'].diff()\n",
        "df.head()"
      ],
      "execution_count": 130,
      "outputs": [
        {
          "output_type": "execute_result",
          "data": {
            "text/html": [
              "<div>\n",
              "<style scoped>\n",
              "    .dataframe tbody tr th:only-of-type {\n",
              "        vertical-align: middle;\n",
              "    }\n",
              "\n",
              "    .dataframe tbody tr th {\n",
              "        vertical-align: top;\n",
              "    }\n",
              "\n",
              "    .dataframe thead th {\n",
              "        text-align: right;\n",
              "    }\n",
              "</style>\n",
              "<table border=\"1\" class=\"dataframe\">\n",
              "  <thead>\n",
              "    <tr style=\"text-align: right;\">\n",
              "      <th></th>\n",
              "      <th>patientunitstayid</th>\n",
              "      <th>LAB_NAME</th>\n",
              "      <th>labresult</th>\n",
              "      <th>labresultoffset</th>\n",
              "      <th>DAY</th>\n",
              "      <th>delta_glucose</th>\n",
              "    </tr>\n",
              "  </thead>\n",
              "  <tbody>\n",
              "    <tr>\n",
              "      <th>56110</th>\n",
              "      <td>141265</td>\n",
              "      <td>GLUCOSE</td>\n",
              "      <td>125.0</td>\n",
              "      <td>528</td>\n",
              "      <td>1</td>\n",
              "      <td>NaN</td>\n",
              "    </tr>\n",
              "    <tr>\n",
              "      <th>56111</th>\n",
              "      <td>141265</td>\n",
              "      <td>GLUCOSE</td>\n",
              "      <td>142.0</td>\n",
              "      <td>803</td>\n",
              "      <td>1</td>\n",
              "      <td>17.0</td>\n",
              "    </tr>\n",
              "    <tr>\n",
              "      <th>56112</th>\n",
              "      <td>141265</td>\n",
              "      <td>GLUCOSE</td>\n",
              "      <td>156.0</td>\n",
              "      <td>1193</td>\n",
              "      <td>1</td>\n",
              "      <td>14.0</td>\n",
              "    </tr>\n",
              "    <tr>\n",
              "      <th>56113</th>\n",
              "      <td>141265</td>\n",
              "      <td>GLUCOSE</td>\n",
              "      <td>155.0</td>\n",
              "      <td>1342</td>\n",
              "      <td>1</td>\n",
              "      <td>-1.0</td>\n",
              "    </tr>\n",
              "    <tr>\n",
              "      <th>56114</th>\n",
              "      <td>141265</td>\n",
              "      <td>GLUCOSE</td>\n",
              "      <td>122.0</td>\n",
              "      <td>1660</td>\n",
              "      <td>2</td>\n",
              "      <td>-33.0</td>\n",
              "    </tr>\n",
              "  </tbody>\n",
              "</table>\n",
              "</div>"
            ],
            "text/plain": [
              "       patientunitstayid LAB_NAME  ...  DAY  delta_glucose\n",
              "56110             141265  GLUCOSE  ...    1            NaN\n",
              "56111             141265  GLUCOSE  ...    1           17.0\n",
              "56112             141265  GLUCOSE  ...    1           14.0\n",
              "56113             141265  GLUCOSE  ...    1           -1.0\n",
              "56114             141265  GLUCOSE  ...    2          -33.0\n",
              "\n",
              "[5 rows x 6 columns]"
            ]
          },
          "metadata": {
            "tags": []
          },
          "execution_count": 130
        }
      ]
    },
    {
      "cell_type": "code",
      "metadata": {
        "id": "OObO3tYGAJ5x",
        "colab_type": "code",
        "colab": {
          "base_uri": "https://localhost:8080/",
          "height": 289
        },
        "outputId": "5ad5ce75-d2d6-47e8-ff4f-69cb66f1638a"
      },
      "source": [
        "mask = df.patientunitstayid != df.patientunitstayid.shift(1)\n",
        "df['delta_glucose'][mask] = np.nan\n",
        "df.head()"
      ],
      "execution_count": 132,
      "outputs": [
        {
          "output_type": "stream",
          "text": [
            "/usr/local/lib/python3.6/dist-packages/ipykernel_launcher.py:2: SettingWithCopyWarning: \n",
            "A value is trying to be set on a copy of a slice from a DataFrame\n",
            "\n",
            "See the caveats in the documentation: http://pandas.pydata.org/pandas-docs/stable/user_guide/indexing.html#returning-a-view-versus-a-copy\n",
            "  \n"
          ],
          "name": "stderr"
        },
        {
          "output_type": "execute_result",
          "data": {
            "text/html": [
              "<div>\n",
              "<style scoped>\n",
              "    .dataframe tbody tr th:only-of-type {\n",
              "        vertical-align: middle;\n",
              "    }\n",
              "\n",
              "    .dataframe tbody tr th {\n",
              "        vertical-align: top;\n",
              "    }\n",
              "\n",
              "    .dataframe thead th {\n",
              "        text-align: right;\n",
              "    }\n",
              "</style>\n",
              "<table border=\"1\" class=\"dataframe\">\n",
              "  <thead>\n",
              "    <tr style=\"text-align: right;\">\n",
              "      <th></th>\n",
              "      <th>patientunitstayid</th>\n",
              "      <th>LAB_NAME</th>\n",
              "      <th>labresult</th>\n",
              "      <th>labresultoffset</th>\n",
              "      <th>DAY</th>\n",
              "      <th>delta_glucose</th>\n",
              "    </tr>\n",
              "  </thead>\n",
              "  <tbody>\n",
              "    <tr>\n",
              "      <th>56110</th>\n",
              "      <td>141265</td>\n",
              "      <td>GLUCOSE</td>\n",
              "      <td>125.0</td>\n",
              "      <td>528</td>\n",
              "      <td>1</td>\n",
              "      <td>NaN</td>\n",
              "    </tr>\n",
              "    <tr>\n",
              "      <th>56111</th>\n",
              "      <td>141265</td>\n",
              "      <td>GLUCOSE</td>\n",
              "      <td>142.0</td>\n",
              "      <td>803</td>\n",
              "      <td>1</td>\n",
              "      <td>17.0</td>\n",
              "    </tr>\n",
              "    <tr>\n",
              "      <th>56112</th>\n",
              "      <td>141265</td>\n",
              "      <td>GLUCOSE</td>\n",
              "      <td>156.0</td>\n",
              "      <td>1193</td>\n",
              "      <td>1</td>\n",
              "      <td>14.0</td>\n",
              "    </tr>\n",
              "    <tr>\n",
              "      <th>56113</th>\n",
              "      <td>141265</td>\n",
              "      <td>GLUCOSE</td>\n",
              "      <td>155.0</td>\n",
              "      <td>1342</td>\n",
              "      <td>1</td>\n",
              "      <td>-1.0</td>\n",
              "    </tr>\n",
              "    <tr>\n",
              "      <th>56114</th>\n",
              "      <td>141265</td>\n",
              "      <td>GLUCOSE</td>\n",
              "      <td>122.0</td>\n",
              "      <td>1660</td>\n",
              "      <td>2</td>\n",
              "      <td>-33.0</td>\n",
              "    </tr>\n",
              "  </tbody>\n",
              "</table>\n",
              "</div>"
            ],
            "text/plain": [
              "       patientunitstayid LAB_NAME  ...  DAY  delta_glucose\n",
              "56110             141265  GLUCOSE  ...    1            NaN\n",
              "56111             141265  GLUCOSE  ...    1           17.0\n",
              "56112             141265  GLUCOSE  ...    1           14.0\n",
              "56113             141265  GLUCOSE  ...    1           -1.0\n",
              "56114             141265  GLUCOSE  ...    2          -33.0\n",
              "\n",
              "[5 rows x 6 columns]"
            ]
          },
          "metadata": {
            "tags": []
          },
          "execution_count": 132
        }
      ]
    },
    {
      "cell_type": "markdown",
      "metadata": {
        "id": "WX_w5LwaLXyo",
        "colab_type": "text"
      },
      "source": [
        "# Calculate summmary statistics for differences between successive glucose draws"
      ]
    },
    {
      "cell_type": "code",
      "metadata": {
        "id": "9tx2QFpAAUjo",
        "colab_type": "code",
        "colab": {
          "base_uri": "https://localhost:8080/",
          "height": 136
        },
        "outputId": "2b69c397-80f6-4786-d8e3-c1e2faad4594"
      },
      "source": [
        "delta_glucose_max = pd.Series(df.groupby(['patientunitstayid', 'DAY']).agg('max').delta_glucose, name='delta_glucose_max')\n",
        "delta_glucose_max.head()"
      ],
      "execution_count": 146,
      "outputs": [
        {
          "output_type": "execute_result",
          "data": {
            "text/plain": [
              "patientunitstayid  DAY\n",
              "141265             1      17.0\n",
              "                   2      13.0\n",
              "                   3      21.0\n",
              "                   4      16.0\n",
              "                   5      32.0\n",
              "Name: delta_glucose_max, dtype: float64"
            ]
          },
          "metadata": {
            "tags": []
          },
          "execution_count": 146
        }
      ]
    },
    {
      "cell_type": "code",
      "metadata": {
        "id": "OR7b2e4fAtlP",
        "colab_type": "code",
        "colab": {
          "base_uri": "https://localhost:8080/",
          "height": 136
        },
        "outputId": "65d53a02-a0df-4867-e53c-029ae1744fbc"
      },
      "source": [
        "delta_glucose_min = pd.Series(df.groupby(['patientunitstayid', 'DAY']).agg('min').delta_glucose, name='delta_glucose_min')\n",
        "delta_glucose_min.head()"
      ],
      "execution_count": 147,
      "outputs": [
        {
          "output_type": "execute_result",
          "data": {
            "text/plain": [
              "patientunitstayid  DAY\n",
              "141265             1      -1.0\n",
              "                   2     -33.0\n",
              "                   3     -18.0\n",
              "                   4     -22.0\n",
              "                   5     -28.0\n",
              "Name: delta_glucose_min, dtype: float64"
            ]
          },
          "metadata": {
            "tags": []
          },
          "execution_count": 147
        }
      ]
    },
    {
      "cell_type": "code",
      "metadata": {
        "id": "wC1shFNfA6eT",
        "colab_type": "code",
        "colab": {
          "base_uri": "https://localhost:8080/",
          "height": 136
        },
        "outputId": "54efbbda-cb7b-4924-980c-16c0056a1359"
      },
      "source": [
        "delta_glucose_mean = pd.Series(df.groupby(['patientunitstayid', 'DAY']).agg('mean').delta_glucose, name='delta_glucose_mean')\n",
        "delta_glucose_mean.head()"
      ],
      "execution_count": 148,
      "outputs": [
        {
          "output_type": "execute_result",
          "data": {
            "text/plain": [
              "patientunitstayid  DAY\n",
              "141265             1      10.0\n",
              "                   2      -7.0\n",
              "                   3      -0.8\n",
              "                   4      -7.5\n",
              "                   5       0.6\n",
              "Name: delta_glucose_mean, dtype: float64"
            ]
          },
          "metadata": {
            "tags": []
          },
          "execution_count": 148
        }
      ]
    },
    {
      "cell_type": "code",
      "metadata": {
        "id": "2NzziyhLCH7r",
        "colab_type": "code",
        "colab": {
          "base_uri": "https://localhost:8080/",
          "height": 136
        },
        "outputId": "959bf5b2-1e79-4919-c128-1c9e7bf64278"
      },
      "source": [
        "delta_glucose_std = pd.Series(df.groupby(['patientunitstayid', 'DAY']).agg('std').delta_glucose, name='delta_glucose_std')\n",
        "delta_glucose_std.head()"
      ],
      "execution_count": 149,
      "outputs": [
        {
          "output_type": "execute_result",
          "data": {
            "text/plain": [
              "patientunitstayid  DAY\n",
              "141265             1       9.643651\n",
              "                   2      19.165942\n",
              "                   3      18.033303\n",
              "                   4      16.441817\n",
              "                   5      21.267346\n",
              "Name: delta_glucose_std, dtype: float64"
            ]
          },
          "metadata": {
            "tags": []
          },
          "execution_count": 149
        }
      ]
    },
    {
      "cell_type": "code",
      "metadata": {
        "id": "jXKglbtEFrzB",
        "colab_type": "code",
        "colab": {
          "base_uri": "https://localhost:8080/",
          "height": 136
        },
        "outputId": "9a8a1f5f-70f7-4212-f8d0-53715a5ecd6a"
      },
      "source": [
        "delta_glucose_count = pd.Series(df.groupby(['patientunitstayid', 'DAY']).agg('count').delta_glucose, name='delta_glucose_count')\n",
        "delta_glucose_count.head()"
      ],
      "execution_count": 154,
      "outputs": [
        {
          "output_type": "execute_result",
          "data": {
            "text/plain": [
              "patientunitstayid  DAY\n",
              "141265             1      3\n",
              "                   2      4\n",
              "                   3      5\n",
              "                   4      4\n",
              "                   5      5\n",
              "Name: delta_glucose_count, dtype: int64"
            ]
          },
          "metadata": {
            "tags": []
          },
          "execution_count": 154
        }
      ]
    },
    {
      "cell_type": "code",
      "metadata": {
        "id": "_Dtz7PBLGKez",
        "colab_type": "code",
        "colab": {
          "base_uri": "https://localhost:8080/",
          "height": 450
        },
        "outputId": "d18d586c-b359-41aa-920b-844d8bc24f51"
      },
      "source": [
        "df_lags = pd.concat([delta_glucose_min, delta_glucose_max, delta_glucose_mean, delta_glucose_std, delta_glucose_count], axis=1)\n",
        "df_lags"
      ],
      "execution_count": 157,
      "outputs": [
        {
          "output_type": "execute_result",
          "data": {
            "text/html": [
              "<div>\n",
              "<style scoped>\n",
              "    .dataframe tbody tr th:only-of-type {\n",
              "        vertical-align: middle;\n",
              "    }\n",
              "\n",
              "    .dataframe tbody tr th {\n",
              "        vertical-align: top;\n",
              "    }\n",
              "\n",
              "    .dataframe thead th {\n",
              "        text-align: right;\n",
              "    }\n",
              "</style>\n",
              "<table border=\"1\" class=\"dataframe\">\n",
              "  <thead>\n",
              "    <tr style=\"text-align: right;\">\n",
              "      <th></th>\n",
              "      <th></th>\n",
              "      <th>delta_glucose_min</th>\n",
              "      <th>delta_glucose_max</th>\n",
              "      <th>delta_glucose_mean</th>\n",
              "      <th>delta_glucose_std</th>\n",
              "      <th>delta_glucose_count</th>\n",
              "    </tr>\n",
              "    <tr>\n",
              "      <th>patientunitstayid</th>\n",
              "      <th>DAY</th>\n",
              "      <th></th>\n",
              "      <th></th>\n",
              "      <th></th>\n",
              "      <th></th>\n",
              "      <th></th>\n",
              "    </tr>\n",
              "  </thead>\n",
              "  <tbody>\n",
              "    <tr>\n",
              "      <th rowspan=\"5\" valign=\"top\">141265</th>\n",
              "      <th>1</th>\n",
              "      <td>-1.0</td>\n",
              "      <td>17.0</td>\n",
              "      <td>10.00</td>\n",
              "      <td>9.643651</td>\n",
              "      <td>3</td>\n",
              "    </tr>\n",
              "    <tr>\n",
              "      <th>2</th>\n",
              "      <td>-33.0</td>\n",
              "      <td>13.0</td>\n",
              "      <td>-7.00</td>\n",
              "      <td>19.165942</td>\n",
              "      <td>4</td>\n",
              "    </tr>\n",
              "    <tr>\n",
              "      <th>3</th>\n",
              "      <td>-18.0</td>\n",
              "      <td>21.0</td>\n",
              "      <td>-0.80</td>\n",
              "      <td>18.033303</td>\n",
              "      <td>5</td>\n",
              "    </tr>\n",
              "    <tr>\n",
              "      <th>4</th>\n",
              "      <td>-22.0</td>\n",
              "      <td>16.0</td>\n",
              "      <td>-7.50</td>\n",
              "      <td>16.441817</td>\n",
              "      <td>4</td>\n",
              "    </tr>\n",
              "    <tr>\n",
              "      <th>5</th>\n",
              "      <td>-28.0</td>\n",
              "      <td>32.0</td>\n",
              "      <td>0.60</td>\n",
              "      <td>21.267346</td>\n",
              "      <td>5</td>\n",
              "    </tr>\n",
              "    <tr>\n",
              "      <th>...</th>\n",
              "      <th>...</th>\n",
              "      <td>...</td>\n",
              "      <td>...</td>\n",
              "      <td>...</td>\n",
              "      <td>...</td>\n",
              "      <td>...</td>\n",
              "    </tr>\n",
              "    <tr>\n",
              "      <th rowspan=\"5\" valign=\"top\">3353145</th>\n",
              "      <th>2</th>\n",
              "      <td>-71.0</td>\n",
              "      <td>60.0</td>\n",
              "      <td>0.75</td>\n",
              "      <td>64.381027</td>\n",
              "      <td>4</td>\n",
              "    </tr>\n",
              "    <tr>\n",
              "      <th>3</th>\n",
              "      <td>-91.0</td>\n",
              "      <td>49.0</td>\n",
              "      <td>-14.80</td>\n",
              "      <td>62.842661</td>\n",
              "      <td>5</td>\n",
              "    </tr>\n",
              "    <tr>\n",
              "      <th>4</th>\n",
              "      <td>-50.0</td>\n",
              "      <td>74.0</td>\n",
              "      <td>9.25</td>\n",
              "      <td>53.412701</td>\n",
              "      <td>4</td>\n",
              "    </tr>\n",
              "    <tr>\n",
              "      <th>5</th>\n",
              "      <td>-100.0</td>\n",
              "      <td>106.0</td>\n",
              "      <td>-1.25</td>\n",
              "      <td>91.743755</td>\n",
              "      <td>4</td>\n",
              "    </tr>\n",
              "    <tr>\n",
              "      <th>6</th>\n",
              "      <td>-27.0</td>\n",
              "      <td>57.0</td>\n",
              "      <td>3.50</td>\n",
              "      <td>36.918830</td>\n",
              "      <td>4</td>\n",
              "    </tr>\n",
              "  </tbody>\n",
              "</table>\n",
              "<p>65379 rows × 5 columns</p>\n",
              "</div>"
            ],
            "text/plain": [
              "                       delta_glucose_min  ...  delta_glucose_count\n",
              "patientunitstayid DAY                     ...                     \n",
              "141265            1                 -1.0  ...                    3\n",
              "                  2                -33.0  ...                    4\n",
              "                  3                -18.0  ...                    5\n",
              "                  4                -22.0  ...                    4\n",
              "                  5                -28.0  ...                    5\n",
              "...                                  ...  ...                  ...\n",
              "3353145           2                -71.0  ...                    4\n",
              "                  3                -91.0  ...                    5\n",
              "                  4                -50.0  ...                    4\n",
              "                  5               -100.0  ...                    4\n",
              "                  6                -27.0  ...                    4\n",
              "\n",
              "[65379 rows x 5 columns]"
            ]
          },
          "metadata": {
            "tags": []
          },
          "execution_count": 157
        }
      ]
    },
    {
      "cell_type": "code",
      "metadata": {
        "id": "2PSO243PGjCg",
        "colab_type": "code",
        "colab": {}
      },
      "source": [
        "df_lags.head().to_csv('test.csv')"
      ],
      "execution_count": 0,
      "outputs": []
    },
    {
      "cell_type": "code",
      "metadata": {
        "id": "1Juh5SCuIO_A",
        "colab_type": "code",
        "colab": {
          "base_uri": "https://localhost:8080/",
          "height": 34
        },
        "outputId": "0f7fd998-4faa-47be-b715-0ae926755b33"
      },
      "source": [
        "!ls"
      ],
      "execution_count": 163,
      "outputs": [
        {
          "output_type": "stream",
          "text": [
            "adc.json  sample_data  test.csv\n"
          ],
          "name": "stdout"
        }
      ]
    },
    {
      "cell_type": "code",
      "metadata": {
        "id": "Y0hk6Vq2IRGj",
        "colab_type": "code",
        "colab": {
          "base_uri": "https://localhost:8080/",
          "height": 119
        },
        "outputId": "6d5ada31-bac0-4c19-c9f8-5455f94eeb54"
      },
      "source": [
        "!head test.csv"
      ],
      "execution_count": 164,
      "outputs": [
        {
          "output_type": "stream",
          "text": [
            "patientunitstayid,DAY,delta_glucose_min,delta_glucose_max,delta_glucose_mean,delta_glucose_std,delta_glucose_count\n",
            "141265,1,-1.0,17.0,10.0,9.643650760992955,3\n",
            "141265,2,-33.0,13.0,-7.0,19.165942015286735,4\n",
            "141265,3,-18.0,21.0,-0.8,18.033302526159762,5\n",
            "141265,4,-22.0,16.0,-7.5,16.441816606851365,4\n",
            "141265,5,-28.0,32.0,0.6,21.26734586167254,5\n"
          ],
          "name": "stdout"
        }
      ]
    },
    {
      "cell_type": "markdown",
      "metadata": {
        "id": "X46pC7gmLkgX",
        "colab_type": "text"
      },
      "source": [
        "#Upload DataFrame to BigQuery"
      ]
    },
    {
      "cell_type": "code",
      "metadata": {
        "id": "4XHwQCAAIUaT",
        "colab_type": "code",
        "colab": {
          "base_uri": "https://localhost:8080/",
          "height": 34
        },
        "outputId": "51f07bfa-8aae-43d9-c8b6-b45643324742"
      },
      "source": [
        "client = bigquery.Client(location='US', project='sccm-datathon')\n",
        "dataset_ref = client.dataset('team_5')\n",
        "table_ref = dataset_ref.table('glucose_cohort_deltas')\n",
        "client.load_table_from_dataframe(df_lags, table_ref).result()"
      ],
      "execution_count": 165,
      "outputs": [
        {
          "output_type": "execute_result",
          "data": {
            "text/plain": [
              "<google.cloud.bigquery.job.LoadJob at 0x7f67b033ac88>"
            ]
          },
          "metadata": {
            "tags": []
          },
          "execution_count": 165
        }
      ]
    },
    {
      "cell_type": "code",
      "metadata": {
        "id": "Abxh2vTvJiqW",
        "colab_type": "code",
        "colab": {}
      },
      "source": [
        ""
      ],
      "execution_count": 0,
      "outputs": []
    }
  ]
}